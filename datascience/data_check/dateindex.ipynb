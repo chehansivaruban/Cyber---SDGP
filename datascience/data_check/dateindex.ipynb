{
 "cells": [
  {
   "cell_type": "code",
   "execution_count": 6,
   "id": "informal-mounting",
   "metadata": {},
   "outputs": [],
   "source": [
    "import numpy as np\n",
    "import pandas as pd\n",
    "import matplotlib.pyplot as plt\n",
    "import matplotlib.pylab as rcParams"
   ]
  },
  {
   "cell_type": "code",
   "execution_count": 7,
   "id": "introductory-baptist",
   "metadata": {},
   "outputs": [],
   "source": [
    "dataset = pd.read_csv('F:/iit_D/Year 2/SDGP/togithub/Cyber---SDGP/dataset/dateindex1.csv',parse_dates=[\"datetime\"])\n"
   ]
  },
  {
   "cell_type": "code",
   "execution_count": 8,
   "id": "mature-region",
   "metadata": {},
   "outputs": [
    {
     "data": {
      "text/html": [
       "<div>\n",
       "<style scoped>\n",
       "    .dataframe tbody tr th:only-of-type {\n",
       "        vertical-align: middle;\n",
       "    }\n",
       "\n",
       "    .dataframe tbody tr th {\n",
       "        vertical-align: top;\n",
       "    }\n",
       "\n",
       "    .dataframe thead th {\n",
       "        text-align: right;\n",
       "    }\n",
       "</style>\n",
       "<table border=\"1\" class=\"dataframe\">\n",
       "  <thead>\n",
       "    <tr style=\"text-align: right;\">\n",
       "      <th></th>\n",
       "      <th>datetime</th>\n",
       "      <th>G(i)</th>\n",
       "    </tr>\n",
       "  </thead>\n",
       "  <tbody>\n",
       "    <tr>\n",
       "      <th>0</th>\n",
       "      <td>2005-01-01 00:00:00</td>\n",
       "      <td>0.0</td>\n",
       "    </tr>\n",
       "    <tr>\n",
       "      <th>1</th>\n",
       "      <td>2005-01-01 01:00:00</td>\n",
       "      <td>55.0</td>\n",
       "    </tr>\n",
       "    <tr>\n",
       "      <th>2</th>\n",
       "      <td>2005-01-01 02:00:00</td>\n",
       "      <td>41.0</td>\n",
       "    </tr>\n",
       "    <tr>\n",
       "      <th>3</th>\n",
       "      <td>2005-01-01 03:00:00</td>\n",
       "      <td>203.0</td>\n",
       "    </tr>\n",
       "    <tr>\n",
       "      <th>4</th>\n",
       "      <td>2005-01-01 04:00:00</td>\n",
       "      <td>421.0</td>\n",
       "    </tr>\n",
       "    <tr>\n",
       "      <th>...</th>\n",
       "      <td>...</td>\n",
       "      <td>...</td>\n",
       "    </tr>\n",
       "    <tr>\n",
       "      <th>105186</th>\n",
       "      <td>2016-12-31 18:00:00</td>\n",
       "      <td>0.0</td>\n",
       "    </tr>\n",
       "    <tr>\n",
       "      <th>105187</th>\n",
       "      <td>2016-12-31 19:00:00</td>\n",
       "      <td>0.0</td>\n",
       "    </tr>\n",
       "    <tr>\n",
       "      <th>105188</th>\n",
       "      <td>2016-12-31 20:00:00</td>\n",
       "      <td>0.0</td>\n",
       "    </tr>\n",
       "    <tr>\n",
       "      <th>105189</th>\n",
       "      <td>2016-12-31 21:00:00</td>\n",
       "      <td>0.0</td>\n",
       "    </tr>\n",
       "    <tr>\n",
       "      <th>105190</th>\n",
       "      <td>2016-12-31 22:00:00</td>\n",
       "      <td>0.0</td>\n",
       "    </tr>\n",
       "  </tbody>\n",
       "</table>\n",
       "<p>105191 rows × 2 columns</p>\n",
       "</div>"
      ],
      "text/plain": [
       "                  datetime   G(i)\n",
       "0      2005-01-01 00:00:00    0.0\n",
       "1      2005-01-01 01:00:00   55.0\n",
       "2      2005-01-01 02:00:00   41.0\n",
       "3      2005-01-01 03:00:00  203.0\n",
       "4      2005-01-01 04:00:00  421.0\n",
       "...                    ...    ...\n",
       "105186 2016-12-31 18:00:00    0.0\n",
       "105187 2016-12-31 19:00:00    0.0\n",
       "105188 2016-12-31 20:00:00    0.0\n",
       "105189 2016-12-31 21:00:00    0.0\n",
       "105190 2016-12-31 22:00:00    0.0\n",
       "\n",
       "[105191 rows x 2 columns]"
      ]
     },
     "execution_count": 8,
     "metadata": {},
     "output_type": "execute_result"
    }
   ],
   "source": [
    "dataset"
   ]
  },
  {
   "cell_type": "code",
   "execution_count": 9,
   "id": "typical-brief",
   "metadata": {},
   "outputs": [],
   "source": [
    "dataset['datetime']=pd.to_datetime(dataset['datetime'],infer_datetime_format=True)\n",
    "indexedDataset = dataset.set_index(['datetime'])"
   ]
  },
  {
   "cell_type": "code",
   "execution_count": 10,
   "id": "minus-orientation",
   "metadata": {},
   "outputs": [
    {
     "data": {
      "text/html": [
       "<div>\n",
       "<style scoped>\n",
       "    .dataframe tbody tr th:only-of-type {\n",
       "        vertical-align: middle;\n",
       "    }\n",
       "\n",
       "    .dataframe tbody tr th {\n",
       "        vertical-align: top;\n",
       "    }\n",
       "\n",
       "    .dataframe thead th {\n",
       "        text-align: right;\n",
       "    }\n",
       "</style>\n",
       "<table border=\"1\" class=\"dataframe\">\n",
       "  <thead>\n",
       "    <tr style=\"text-align: right;\">\n",
       "      <th></th>\n",
       "      <th>G(i)</th>\n",
       "    </tr>\n",
       "    <tr>\n",
       "      <th>datetime</th>\n",
       "      <th></th>\n",
       "    </tr>\n",
       "  </thead>\n",
       "  <tbody>\n",
       "    <tr>\n",
       "      <th>2005-01-01 00:00:00</th>\n",
       "      <td>0.0</td>\n",
       "    </tr>\n",
       "    <tr>\n",
       "      <th>2005-01-01 01:00:00</th>\n",
       "      <td>55.0</td>\n",
       "    </tr>\n",
       "    <tr>\n",
       "      <th>2005-01-01 02:00:00</th>\n",
       "      <td>41.0</td>\n",
       "    </tr>\n",
       "    <tr>\n",
       "      <th>2005-01-01 03:00:00</th>\n",
       "      <td>203.0</td>\n",
       "    </tr>\n",
       "    <tr>\n",
       "      <th>2005-01-01 04:00:00</th>\n",
       "      <td>421.0</td>\n",
       "    </tr>\n",
       "  </tbody>\n",
       "</table>\n",
       "</div>"
      ],
      "text/plain": [
       "                      G(i)\n",
       "datetime                  \n",
       "2005-01-01 00:00:00    0.0\n",
       "2005-01-01 01:00:00   55.0\n",
       "2005-01-01 02:00:00   41.0\n",
       "2005-01-01 03:00:00  203.0\n",
       "2005-01-01 04:00:00  421.0"
      ]
     },
     "execution_count": 10,
     "metadata": {},
     "output_type": "execute_result"
    }
   ],
   "source": [
    "from datetime import datetime\n",
    "indexedDataset.head(5)"
   ]
  },
  {
   "cell_type": "code",
   "execution_count": 11,
   "id": "blind-afternoon",
   "metadata": {},
   "outputs": [
    {
     "data": {
      "text/plain": [
       "[<matplotlib.lines.Line2D at 0x25a7a2a8190>]"
      ]
     },
     "execution_count": 11,
     "metadata": {},
     "output_type": "execute_result"
    },
    {
     "data": {
      "image/png": "[encoded data removed]",
      "text/plain": [
       "<Figure size 432x288 with 1 Axes>"
      ]
     },
     "metadata": {
      "needs_background": "light"
     },
     "output_type": "display_data"
    }
   ],
   "source": [
    "plt.xlabel(\"datetime\")\n",
    "plt.ylabel(\"r\")\n",
    "plt.plot(indexedDataset)"
   ]
  },
  {
   "cell_type": "code",
   "execution_count": 12,
   "id": "subjective-burst",
   "metadata": {},
   "outputs": [
    {
     "name": "stdout",
     "output_type": "stream",
     "text": [
      "                           G(i)\n",
      "datetime                       \n",
      "2005-01-01 00:00:00         NaN\n",
      "2005-01-01 01:00:00         NaN\n",
      "2005-01-01 02:00:00         NaN\n",
      "2005-01-01 03:00:00         NaN\n",
      "2005-01-01 04:00:00         NaN\n",
      "...                         ...\n",
      "2016-12-31 18:00:00  254.750204\n",
      "2016-12-31 19:00:00  254.750204\n",
      "2016-12-31 20:00:00  254.750204\n",
      "2016-12-31 21:00:00  254.750204\n",
      "2016-12-31 22:00:00  254.750204\n",
      "\n",
      "[105191 rows x 1 columns]                            G(i)\n",
      "datetime                       \n",
      "2005-01-01 00:00:00         NaN\n",
      "2005-01-01 01:00:00         NaN\n",
      "2005-01-01 02:00:00         NaN\n",
      "2005-01-01 03:00:00         NaN\n",
      "2005-01-01 04:00:00         NaN\n",
      "...                         ...\n",
      "2016-12-31 18:00:00  338.999578\n",
      "2016-12-31 19:00:00  338.999578\n",
      "2016-12-31 20:00:00  338.999578\n",
      "2016-12-31 21:00:00  338.999578\n",
      "2016-12-31 22:00:00  338.999578\n",
      "\n",
      "[105191 rows x 1 columns]\n"
     ]
    }
   ],
   "source": [
    "rolmean = indexedDataset.rolling(window=365*24).mean()\n",
    "\n",
    "rolstd = indexedDataset.rolling(window=365*24).std()\n",
    "print(rolmean,rolstd)"
   ]
  },
  {
   "cell_type": "code",
   "execution_count": 13,
   "id": "quiet-answer",
   "metadata": {},
   "outputs": [
    {
     "data": {
      "image/png": "[encoded data removed]",
      "text/plain": [
       "<Figure size 432x288 with 1 Axes>"
      ]
     },
     "metadata": {
      "needs_background": "light"
     },
     "output_type": "display_data"
    }
   ],
   "source": [
    "orig = plt.plot(indexedDataset,color='blue', label = 'orginal')\n",
    "mean = plt.plot(rolmean,color='red', label = 'orginal')\n",
    "mean = plt.plot(rolstd,color='black', label = 'orginal')\n",
    "plt.legend(loc='best')\n",
    "plt.title('Rolling Mean & Standard Deviation')\n",
    "plt.show(block=False)"
   ]
  },
  {
   "cell_type": "code",
   "execution_count": 14,
   "id": "documented-dimension",
   "metadata": {},
   "outputs": [
    {
     "name": "stdout",
     "output_type": "stream",
     "text": [
      "Requirement already satisfied: patsy in c:\\python\\python3.9.0\\lib\\site-packages (0.5.1)\n",
      "Requirement already satisfied: six in c:\\python\\python3.9.0\\lib\\site-packages (from patsy) (1.15.0)\n",
      "Requirement already satisfied: numpy>=1.4 in c:\\python\\python3.9.0\\lib\\site-packages (from patsy) (1.20.0)\n",
      "Note: you may need to restart the kernel to use updated packages.\n"
     ]
    },
    {
     "name": "stderr",
     "output_type": "stream",
     "text": [
      "WARNING: You are using pip version 20.2.3; however, version 21.0.1 is available.\n",
      "You should consider upgrading via the 'c:\\python\\python3.9.0\\python.exe -m pip install --upgrade pip' command.\n"
     ]
    }
   ],
   "source": [
    "pip install patsy"
   ]
  },
  {
   "cell_type": "code",
   "execution_count": 27,
   "id": "piano-audit",
   "metadata": {},
   "outputs": [
    {
     "name": "stdout",
     "output_type": "stream",
     "text": [
      "Reults of Dickey fuller Test : \n",
      "Test Statistic                                                        -24.046283\n",
      "p-value                                                                      0.0\n",
      "#lags Used                                                                    69\n",
      "Number of Observations Used                                               105121\n",
      "Number of Observations used    {'1%': -3.430412208880146, '5%': -2.8615674953...\n",
      "Critical Value (1%)                                                    -3.430412\n",
      "Critical Value (5%)                                                    -2.861567\n",
      "Critical Value (10%)                                                   -2.566785\n",
      "dtype: object\n"
     ]
    }
   ],
   "source": [
    "\n",
    "from statsmodels.tsa.stattools import adfuller\n",
    "\n",
    "print('Reults of Dickey fuller Test : ')\n",
    "dftest = adfuller(indexedDataset[\"G(i)\"],autolag='AIC')\n",
    "\n",
    "dfoutput = pd.Series(dftest[0:5],index=['Test Statistic','p-value','#lags Used', 'Number of Observations Used','Number of Observations used'])\n",
    "for key,value in dftest[4].items():\n",
    "    dfoutput['Critical Value (%s)'%key] = value\n",
    "    \n",
    "print(dfoutput)"
   ]
  },
  {
   "cell_type": "code",
   "execution_count": 35,
   "id": "pointed-chess",
   "metadata": {},
   "outputs": [
    {
     "data": {
      "image/png": "[encoded data removed]",
      "text/plain": [
       "<Figure size 432x288 with 4 Axes>"
      ]
     },
     "metadata": {
      "needs_background": "light"
     },
     "output_type": "display_data"
    }
   ],
   "source": [
    "from statsmodels.tsa.seasonal import seasonal_decompose\n",
    "\n",
    "\n",
    "    \n",
    "decomposition = seasonal_decompose(indexedDataset)\n",
    "\n",
    "trend = decomposition.trend\n",
    "seasonal = decomposition.seasonal\n",
    "residual = decomposition.resid\n",
    "\n",
    "plt.subplot(411)\n",
    "plt.plot(indexedDataset,label = 'Original')\n",
    "plt.legend(loc = 'best')\n",
    "plt.subplot(412)\n",
    "plt.plot(trend,label='Trend')\n",
    "plt.legend(loc = 'best')\n",
    "plt.subplot(413)\n",
    "plt.plot(seasonal,label='Seasonal')\n",
    "plt.legend(loc = 'best')\n",
    "plt.subplot(414)\n",
    "plt.plot(residual,label='Residual')\n",
    "plt.legend(loc = 'best')\n",
    "plt.tight_layout()\n",
    "\n",
    "decomposedData = residual\n",
    "decomposedData.dropna(inplace=True)\n",
    "\n"
   ]
  },
  {
   "cell_type": "code",
   "execution_count": null,
   "id": "veterinary-information",
   "metadata": {},
   "outputs": [],
   "source": []
  }
 ],
 "metadata": {
  "kernelspec": {
   "display_name": "Python 3",
   "language": "python",
   "name": "python3"
  },
  "language_info": {
   "codemirror_mode": {
    "name": "ipython",
    "version": 3
   },
   "file_extension": ".py",
   "mimetype": "text/x-python",
   "name": "python",
   "nbconvert_exporter": "python",
   "pygments_lexer": "ipython3",
   "version": "3.9.0"
  }
 },
 "nbformat": 4,
 "nbformat_minor": 5
}
