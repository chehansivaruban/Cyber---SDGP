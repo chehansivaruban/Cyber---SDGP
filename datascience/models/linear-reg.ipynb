{
 "cells": [
  {
   "cell_type": "code",
   "execution_count": 3,
   "id": "affected-magic",
   "metadata": {},
   "outputs": [
    {
     "name": "stdout",
     "output_type": "stream",
     "text": [
      "Collecting pandas\n",
      "  Downloading pandas-1.2.1-cp39-cp39-win_amd64.whl (9.3 MB)\n",
      "Collecting numpy>=1.16.5\n",
      "  Downloading numpy-1.20.0-cp39-cp39-win_amd64.whl (13.7 MB)\n",
      "Collecting pytz>=2017.3\n",
      "  Downloading pytz-2021.1-py2.py3-none-any.whl (510 kB)\n",
      "Requirement already satisfied: python-dateutil>=2.7.3 in c:\\python\\python3.9.0\\lib\\site-packages (from pandas) (2.8.1)\n",
      "Requirement already satisfied: six>=1.5 in c:\\python\\python3.9.0\\lib\\site-packages (from python-dateutil>=2.7.3->pandas) (1.15.0)\n",
      "Installing collected packages: numpy, pytz, pandas\n",
      "Successfully installed numpy-1.20.0 pandas-1.2.1 pytz-2021.1\n"
     ]
    },
    {
     "name": "stderr",
     "output_type": "stream",
     "text": [
      "WARNING: You are using pip version 20.2.3; however, version 21.0.1 is available.\n",
      "You should consider upgrading via the 'c:\\python\\python3.9.0\\python.exe -m pip install --upgrade pip' command.\n"
     ]
    }
   ],
   "source": [
    "!pip install pandas"
   ]
  },
  {
   "cell_type": "code",
   "execution_count": 4,
   "id": "thousand-insider",
   "metadata": {},
   "outputs": [
    {
     "name": "stdout",
     "output_type": "stream",
     "text": [
      "Requirement already satisfied: numpy in c:\\python\\python3.9.0\\lib\\site-packages (1.20.0)\n"
     ]
    },
    {
     "name": "stderr",
     "output_type": "stream",
     "text": [
      "WARNING: You are using pip version 20.2.3; however, version 21.0.1 is available.\n",
      "You should consider upgrading via the 'c:\\python\\python3.9.0\\python.exe -m pip install --upgrade pip' command.\n"
     ]
    }
   ],
   "source": [
    "!pip install numpy"
   ]
  },
  {
   "cell_type": "code",
   "execution_count": 5,
   "id": "infinite-increase",
   "metadata": {},
   "outputs": [
    {
     "name": "stderr",
     "output_type": "stream",
     "text": [
      "ERROR: Could not find a version that satisfies the requirement matplotlib.pyplot (from versions: none)\n",
      "ERROR: No matching distribution found for matplotlib.pyplot\n",
      "WARNING: You are using pip version 20.2.3; however, version 21.0.1 is available.\n",
      "You should consider upgrading via the 'c:\\python\\python3.9.0\\python.exe -m pip install --upgrade pip' command.\n"
     ]
    }
   ],
   "source": [
    "!pip install matplotlib.pyplot"
   ]
  },
  {
   "cell_type": "code",
   "execution_count": 6,
   "id": "freelance-chemical",
   "metadata": {},
   "outputs": [
    {
     "name": "stdout",
     "output_type": "stream",
     "text": [
      "Collecting sklearn\n",
      "  Downloading sklearn-0.0.tar.gz (1.1 kB)\n",
      "Collecting scikit-learn\n",
      "  Downloading scikit_learn-0.24.1-cp39-cp39-win_amd64.whl (6.9 MB)\n",
      "Collecting threadpoolctl>=2.0.0\n",
      "  Downloading threadpoolctl-2.1.0-py3-none-any.whl (12 kB)\n",
      "Collecting joblib>=0.11\n",
      "  Downloading joblib-1.0.0-py3-none-any.whl (302 kB)\n",
      "Collecting scipy>=0.19.1\n",
      "  Downloading scipy-1.6.0-cp39-cp39-win_amd64.whl (32.7 MB)\n",
      "Requirement already satisfied: numpy>=1.13.3 in c:\\python\\python3.9.0\\lib\\site-packages (from scikit-learn->sklearn) (1.20.0)\n",
      "Using legacy 'setup.py install' for sklearn, since package 'wheel' is not installed.\n",
      "Installing collected packages: threadpoolctl, joblib, scipy, scikit-learn, sklearn\n",
      "    Running setup.py install for sklearn: started\n",
      "    Running setup.py install for sklearn: finished with status 'done'\n",
      "Successfully installed joblib-1.0.0 scikit-learn-0.24.1 scipy-1.6.0 sklearn-0.0 threadpoolctl-2.1.0\n"
     ]
    },
    {
     "name": "stderr",
     "output_type": "stream",
     "text": [
      "WARNING: You are using pip version 20.2.3; however, version 21.0.1 is available.\n",
      "You should consider upgrading via the 'c:\\python\\python3.9.0\\python.exe -m pip install --upgrade pip' command.\n"
     ]
    }
   ],
   "source": [
    "!pip install sklearn"
   ]
  },
  {
   "cell_type": "code",
   "execution_count": 7,
   "id": "victorian-administrator",
   "metadata": {},
   "outputs": [
    {
     "ename": "ModuleNotFoundError",
     "evalue": "No module named 'matplotlib'",
     "output_type": "error",
     "traceback": [
      "\u001b[1;31m---------------------------------------------------------------------------\u001b[0m",
      "\u001b[1;31mModuleNotFoundError\u001b[0m                       Traceback (most recent call last)",
      "\u001b[1;32m<ipython-input-7-52829145b644>\u001b[0m in \u001b[0;36m<module>\u001b[1;34m\u001b[0m\n\u001b[0;32m      1\u001b[0m \u001b[1;32mimport\u001b[0m \u001b[0mnumpy\u001b[0m \u001b[1;32mas\u001b[0m \u001b[0mnp\u001b[0m\u001b[1;33m\u001b[0m\u001b[1;33m\u001b[0m\u001b[0m\n\u001b[1;32m----> 2\u001b[1;33m \u001b[1;32mimport\u001b[0m \u001b[0mmatplotlib\u001b[0m\u001b[1;33m.\u001b[0m\u001b[0mpyplot\u001b[0m \u001b[1;32mas\u001b[0m \u001b[0mplt\u001b[0m\u001b[1;33m\u001b[0m\u001b[1;33m\u001b[0m\u001b[0m\n\u001b[0m\u001b[0;32m      3\u001b[0m \u001b[1;32mfrom\u001b[0m \u001b[0msklearn\u001b[0m\u001b[1;33m.\u001b[0m\u001b[0mlinear_model\u001b[0m \u001b[1;32mimport\u001b[0m \u001b[0mLinearRegression\u001b[0m\u001b[1;33m\u001b[0m\u001b[1;33m\u001b[0m\u001b[0m\n",
      "\u001b[1;31mModuleNotFoundError\u001b[0m: No module named 'matplotlib'"
     ]
    }
   ],
   "source": [
    "import numpy as np\n",
    "import matplotlib.pyplot as plt\n",
    "from sklearn.linear_model import LinearRegression"
   ]
  },
  {
   "cell_type": "code",
   "execution_count": 8,
   "id": "completed-credits",
   "metadata": {},
   "outputs": [
    {
     "name": "stdout",
     "output_type": "stream",
     "text": [
      "Collecting matplotlib"
     ]
    },
    {
     "name": "stderr",
     "output_type": "stream",
     "text": [
      "WARNING: You are using pip version 20.2.3; however, version 21.0.1 is available.\n",
      "You should consider upgrading via the 'c:\\python\\python3.9.0\\python.exe -m pip install --upgrade pip' command.\n"
     ]
    },
    {
     "name": "stdout",
     "output_type": "stream",
     "text": [
      "\n",
      "  Downloading matplotlib-3.3.4-cp39-cp39-win_amd64.whl (8.5 MB)\n",
      "Requirement already satisfied: numpy>=1.15 in c:\\python\\python3.9.0\\lib\\site-packages (from matplotlib) (1.20.0)\n",
      "Collecting cycler>=0.10\n",
      "  Downloading cycler-0.10.0-py2.py3-none-any.whl (6.5 kB)\n",
      "Collecting kiwisolver>=1.0.1\n",
      "  Downloading kiwisolver-1.3.1-cp39-cp39-win_amd64.whl (51 kB)\n",
      "Requirement already satisfied: pyparsing!=2.0.4,!=2.1.2,!=2.1.6,>=2.0.3 in c:\\python\\python3.9.0\\lib\\site-packages (from matplotlib) (2.4.7)\n",
      "Collecting pillow>=6.2.0\n",
      "  Downloading Pillow-8.1.0-cp39-cp39-win_amd64.whl (2.2 MB)\n",
      "Requirement already satisfied: python-dateutil>=2.1 in c:\\python\\python3.9.0\\lib\\site-packages (from matplotlib) (2.8.1)\n",
      "Requirement already satisfied: six in c:\\python\\python3.9.0\\lib\\site-packages (from cycler>=0.10->matplotlib) (1.15.0)\n",
      "Installing collected packages: cycler, kiwisolver, pillow, matplotlib\n",
      "Successfully installed cycler-0.10.0 kiwisolver-1.3.1 matplotlib-3.3.4 pillow-8.1.0\n"
     ]
    }
   ],
   "source": [
    "!pip install matplotlib"
   ]
  },
  {
   "cell_type": "code",
   "execution_count": 9,
   "id": "optimum-survey",
   "metadata": {},
   "outputs": [],
   "source": [
    "import numpy as np\n",
    "import matplotlib.pyplot as plt\n",
    "from sklearn.linear_model import LinearRegression"
   ]
  },
  {
   "cell_type": "code",
   "execution_count": 24,
   "id": "three-flavor",
   "metadata": {},
   "outputs": [],
   "source": [
    "x = np.array([23.98\t,\t24.25\t,\t25.14\t,\t26.65\t,\t26.84\t,\t26.94\t,\t26.95\t,\t26.48\t,\t25.89\t,\t25.18\t,\t24.67\t,\t24.26\t,\t23.94\t,\t24.6\t,\t25.71\t,\t27.26\t,\t27.59\t,\t27.72\t,\t27.63\t,\t26.84\t,\t26.11\t,\t25.46\t,\t24.81\t,\t24.2\t,\t23.65\t,\t24.5\t,\t25.77\t,\t27.46\t,\t27.88\t,\t28.01\t,\t27.85\t,\t27.36\t,\t26.82\t,\t26.21\t,\t25.57\t,\t25\t,\t24.49\t,\t24.88\t,\t25.96\t,\t27.71\t,\t28.12\t,\t28.33\t,\t28.33\t,\t27.62\t,\t26.84\t,\t26.01\t,\t25.33\t,\t24.82\t,\t24.47\t,\t25.02\t,\t26.04\t,\t27.53\t,\t27.72\t,\t27.79\t,\t27.74\t,\t26.69\t,\t25.87\t,\t25.28\t,\t24.73\t,\t24.27\t,\t23.9\t,\t24.39\t,\t25.39\t,\t26.89\t,\t27.37\t,\t27.59\t,\t27.54\t,\t26.85\t,\t26.09\t,\t25.26\t,\t24.63\t,\t24.1\t,\t23.67\t,\t24.29\t,\t25.5\t,\t27.3\t,\t27.79\t,\t28.05\t,\t28.08\t,\t27.49\t,\t26.81\t,\t26.04\t,\t25.31\t,\t24.71\t,\t24.26\t,\t24.72\t,\t25.69\t,\t27.17\t,\t27.42\t,\t27.54\t,\t27.53\t,\t26.79\t,\t26.01\t,\t25.2\t,\t24.63\t,\t24.13\t,\t23.72\t,\t24.13\t,\t24.99\t,\t26.3\t,\t26.55\t,\t26.7\t,\t26.75\t,\t26.24\t,\t25.69\t,\t25.09\t,\t24.53\t,\t24.04\t,\t23.63\t,\t23.98\t,\t25.06\t,\t26.86\t,\t27.16\t,\t27.24\t,\t27.1\t,\t26.35\t,\t25.69\t,\t25.14\t,\t24.61\t,\t24.14\t,\t23.73\t,\t24.07\t,\t25.07\t,\t26.74\t,\t26.97\t,\t27.04\t,\t26.93\t,\t26.64\t,\t26.28\t,\t25.85\t,\t25.3\t,\t24.8\t,\t24.35\t,\t24.79\t,\t25.86\t,\t27.57\t,\t27.56\t,\t27.36\t,\t26.95\t,\t26.09\t,\t25.45\t,\t25.03\t,\t24.44\t,\t23.85\t,\t23.25\t,\t23.54\t,\t24.44\t,\t25.94\t,\t26.55\t,\t27\t,\t27.27\t,\t26.72\t,\t25.95\t,\t24.94\t,\t24.08\t,\t23.38\t,\t22.84\t,\t23.35\t,\t24.53\t,\t26.39\t,\t27.2\t,\t27.77\t,\t28.12\t,\t27.43\t,\t26.68\t,\t25.86\t,\t25.15\t,\t24.53\t,\t24.01\t,\t24.5\t,\t25.54\t,\t27.15\t,\t27.59\t,\t27.86\t,\t27.97\t,\t27.15\t,\t26.29\t,\t25.4\t,\t24.68\t,\t24.11\t,\t23.7\t,\t24.27\t,\t25.41\t,\t27.1\t,\t27.63\t,\t27.9\t,\t27.89\t,\t27.49\t,\t26.94\t,\t26.25\t,\t25.54\t,\t24.96\t,\t24.52\t,\t24.99\t,\t25.97\t,\t27.45\t,\t27.45\t,\t27.34\t,\t27.12\t,\t26.69\t,\t26.21\t,\t25.7\t,\t25.27\t,\t24.78\t,\t24.25\t,\t25.17\t,\t26.37\t,\t27.84\t,\t27.6\t,\t27.27\t,\t26.86\t,\t26.41\t,\t25.95\t,\t25.46\t,\t25.11\t,\t24.8\t,\t24.55\t,\t25.07\t,\t26.26\t,\t28.12\t,\t27.92\t,\t27.56\t,\t27.03\t,\t26.98\t,\t26.72\t,\t26.27\t,\t25.7\t,\t25.37\t,\t25.3\t,\t25.78\t,\t26.8\t,\t28.37\t,\t28.19\t,\t27.64\t,\t26.72\t,\t26.35\t,\t26.03\t,\t25.76\t,\t25.59\t,\t25.42\t,\t25.23\t,\t25.64\t,\t26.73\t,\t28.48\t,\t29.01\t,\t29.01\t,\t28.5\t,\t26.89\t,\t25.85\t,\t25.39\t,\t25.08\t,\t24.74\t,\t24.35\t,\t24.96\t,\t26.16\t,\t27.96\t,\t28.05\t,\t27.66\t,\t26.77\t,\t26.27\t,\t25.72\t,\t25.12\t,\t24.64\t,\t24.33\t,\t24.18\t,\t24.63\t,\t25.82\t,\t27.75\t,\t28.2\t,\t27.9\t,\t26.86\t,\t25.96\t,\t25.35\t,\t25.03\t,\t24.66\t,\t24.43\t,\t24.35\t,\t24.81\t,\t25.81\t,\t27.35\t,\t27.85\t,\t28.24\t,\t28.52\t,\t27.33\t,\t26.38\n",
    "])\n",
    "y = np.array([2.4\t,\t2.4\t,\t2.31\t,\t2.12\t,\t1.86\t,\t1.47\t,\t0.95\t,\t1.3\t,\t1.51\t,\t1.57\t,\t1.52\t,\t1.46\t,\t1.39\t,\t2.29\t,\t2.69\t,\t2.61\t,\t2.25\t,\t1.67\t,\t0.87\t,\t1.45\t,\t1.91\t,\t2.26\t,\t2.32\t,\t2.28\t,\t2.14\t,\t1.97\t,\t1.98\t,\t2.15\t,\t1.88\t,\t1.39\t,\t0.7\t,\t1.65\t,\t2.11\t,\t2.08\t,\t2.02\t,\t1.94\t,\t1.85\t,\t2.31\t,\t2.83\t,\t3.41\t,\t3.07\t,\t2.37\t,\t1.32\t,\t1.86\t,\t2.04\t,\t1.86\t,\t1.61\t,\t1.47\t,\t1.43\t,\t2.44\t,\t2.99\t,\t3.1\t,\t2.88\t,\t2.34\t,\t1.46\t,\t1.52\t,\t1.56\t,\t1.59\t,\t1.61\t,\t1.63\t,\t1.64\t,\t2.25\t,\t2.68\t,\t2.94\t,\t3.2\t,\t2.81\t,\t1.75\t,\t1.8\t,\t1.82\t,\t1.81\t,\t1.83\t,\t1.87\t,\t1.9\t,\t2.34\t,\t2.84\t,\t3.39\t,\t3.09\t,\t2.39\t,\t1.3\t,\t1.95\t,\t2.25\t,\t2.19\t,\t2.02\t,\t1.88\t,\t1.77\t,\t2.3\t,\t2.57\t,\t2.59\t,\t1.98\t,\t1.26\t,\t0.46\t,\t1.18\t,\t1.48\t,\t1.35\t,\t1.66\t,\t1.87\t,\t2\t,\t2.71\t,\t3.25\t,\t3.63\t,\t3.54\t,\t3.09\t,\t2.28\t,\t2.2\t,\t2.06\t,\t1.83\t,\t1.94\t,\t2.08\t,\t2.26\t,\t2.01\t,\t1.81\t,\t1.64\t,\t1.38\t,\t1.1\t,\t0.8\t,\t1.29\t,\t1.56\t,\t1.63\t,\t1.59\t,\t1.51\t,\t1.39\t,\t1.61\t,\t1.79\t,\t1.92\t,\t2.05\t,\t1.77\t,\t1.08\t,\t1.7\t,\t2.04\t,\t2.1\t,\t2\t,\t1.85\t,\t1.64\t,\t1.93\t,\t2.19\t,\t2.43\t,\t2.19\t,\t1.98\t,\t1.81\t,\t1.48\t,\t1.45\t,\t1.74\t,\t1.58\t,\t1.68\t,\t2.03\t,\t2.39\t,\t2.56\t,\t2.55\t,\t2.76\t,\t2.39\t,\t1.43\t,\t2.1\t,\t2.37\t,\t2.25\t,\t2.22\t,\t2.21\t,\t2.22\t,\t2.73\t,\t3.06\t,\t3.21\t,\t3.04\t,\t2.42\t,\t1.37\t,\t2.3\t,\t2.8\t,\t2.86\t,\t2.83\t,\t2.76\t,\t2.65\t,\t2.4\t,\t2.43\t,\t2.74\t,\t2.14\t,\t1.53\t,\t0.91\t,\t2.1\t,\t2.64\t,\t2.54\t,\t2.4\t,\t2.28\t,\t2.18\t,\t2.26\t,\t2.34\t,\t2.41\t,\t1.96\t,\t1.56\t,\t1.2\t,\t1.57\t,\t1.66\t,\t1.48\t,\t1.55\t,\t1.73\t,\t2.03\t,\t2.08\t,\t2.11\t,\t2.12\t,\t2.07\t,\t2.08\t,\t2.15\t,\t1.84\t,\t1.73\t,\t1.82\t,\t1.65\t,\t1.43\t,\t1.16\t,\t1.77\t,\t2.24\t,\t2.57\t,\t2.67\t,\t2.75\t,\t2.81\t,\t1.85\t,\t1.36\t,\t1.35\t,\t1.35\t,\t1.3\t,\t1.19\t,\t2.04\t,\t2.57\t,\t2.79\t,\t2.5\t,\t2.29\t,\t2.17\t,\t1.74\t,\t1.54\t,\t1.56\t,\t1.55\t,\t1.54\t,\t1.53\t,\t2.41\t,\t3.23\t,\t3.99\t,\t3.85\t,\t3.88\t,\t4.07\t,\t3.11\t,\t2.59\t,\t2.5\t,\t2.44\t,\t2.32\t,\t2.14\t,\t3.18\t,\t3.99\t,\t4.58\t,\t4.51\t,\t3.77\t,\t2.36\t,\t1.8\t,\t1.55\t,\t1.61\t,\t1.57\t,\t1.57\t,\t1.63\t,\t2.31\t,\t2.88\t,\t3.34\t,\t3\t,\t2.8\t,\t2.73\t,\t1.87\t,\t1.47\t,\t1.53\t,\t1.52\t,\t1.49\t,\t1.42\t,\t2.76\t,\t3.57\t,\t3.85\t,\t3.44\t,\t3.01\t,\t2.55\t,\t1.87\t,\t1.49\t,\t1.39\t,\t1.45\t,\t1.49\t,\t1.52\t,\t2.65\t,\t3.27\t,\t3.38\t,\t3.46\t,\t2.83\t,\t1.48\t,\t2.11\t,\t2.48\n",
    "])"
   ]
  },
  {
   "cell_type": "code",
   "execution_count": 25,
   "id": "medieval-breathing",
   "metadata": {},
   "outputs": [],
   "source": [
    "linreg = LinearRegression()"
   ]
  },
  {
   "cell_type": "code",
   "execution_count": 26,
   "id": "thrown-milton",
   "metadata": {},
   "outputs": [],
   "source": [
    "x = x.reshape(-1,1)"
   ]
  },
  {
   "cell_type": "code",
   "execution_count": 27,
   "id": "eligible-marina",
   "metadata": {},
   "outputs": [
    {
     "data": {
      "text/plain": [
       "LinearRegression()"
      ]
     },
     "execution_count": 27,
     "metadata": {},
     "output_type": "execute_result"
    }
   ],
   "source": [
    "linreg.fit(x,y)"
   ]
  },
  {
   "cell_type": "code",
   "execution_count": 28,
   "id": "limiting-guarantee",
   "metadata": {},
   "outputs": [
    {
     "data": {
      "text/plain": [
       "LinearRegression()"
      ]
     },
     "execution_count": 28,
     "metadata": {},
     "output_type": "execute_result"
    }
   ],
   "source": [
    "linreg.fit(x,y)"
   ]
  },
  {
   "cell_type": "code",
   "execution_count": 29,
   "id": "color-disclaimer",
   "metadata": {},
   "outputs": [],
   "source": [
    "y_predict = linreg.predict(x)"
   ]
  },
  {
   "cell_type": "code",
   "execution_count": 30,
   "id": "through-software",
   "metadata": {},
   "outputs": [
    {
     "data": {
      "image/png": "[encoded data removed]",
      "text/plain": [
       "<Figure size 432x288 with 1 Axes>"
      ]
     },
     "metadata": {
      "needs_background": "light"
     },
     "output_type": "display_data"
    }
   ],
   "source": [
    "plt.scatter(x,y)\n",
    "plt.plot(x,y_predict,color='red')\n",
    "plt.show()"
   ]
  },
  {
   "cell_type": "code",
   "execution_count": 31,
   "id": "written-proportion",
   "metadata": {},
   "outputs": [
    {
     "name": "stdout",
     "output_type": "stream",
     "text": [
      "[0.12190227]\n"
     ]
    }
   ],
   "source": [
    "print(linreg.coef_)"
   ]
  },
  {
   "cell_type": "code",
   "execution_count": 32,
   "id": "periodic-compression",
   "metadata": {},
   "outputs": [
    {
     "name": "stdout",
     "output_type": "stream",
     "text": [
      "-1.0391706187975656\n"
     ]
    }
   ],
   "source": [
    "print(linreg.intercept_)"
   ]
  },
  {
   "cell_type": "code",
   "execution_count": null,
   "id": "conscious-brake",
   "metadata": {},
   "outputs": [],
   "source": []
  }
 ],
 "metadata": {
  "kernelspec": {
   "display_name": "Python 3",
   "language": "python",
   "name": "python3"
  },
  "language_info": {
   "codemirror_mode": {
    "name": "ipython",
    "version": 3
   },
   "file_extension": ".py",
   "mimetype": "text/x-python",
   "name": "python",
   "nbconvert_exporter": "python",
   "pygments_lexer": "ipython3",
   "version": "3.9.0"
  }
 },
 "nbformat": 4,
 "nbformat_minor": 5
}
