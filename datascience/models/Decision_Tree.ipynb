{
  "nbformat": 4,
  "nbformat_minor": 0,
  "metadata": {
    "colab": {
      "name": "Decision_Tree.ipynb",
      "provenance": [],
      "authorship_tag": "ABX9TyO0UTP2nJYbnuzLGgwrp7Zq",
      "include_colab_link": true
    },
    "kernelspec": {
      "name": "python3",
      "display_name": "Python 3"
    },
    "language_info": {
      "name": "python"
    }
  },
  "cells": [
    {
      "cell_type": "markdown",
      "metadata": {
        "id": "view-in-github",
        "colab_type": "text"
      },
      "source": [
        "<a href=\"https://colab.research.google.com/github/chehansivaruban/Cyber---SDGP/blob/main/Decision_Tree.ipynb\" target=\"_parent\"><img src=\"https://colab.research.google.com/assets/colab-badge.svg\" alt=\"Open In Colab\"/></a>"
      ]
    },
    {
      "cell_type": "code",
      "metadata": {
        "id": "KPe5Fnx8gBC4"
      },
      "source": [
        "import numpy as np\n",
        "import tensorflow as tf\n",
        "from tensorflow import keras\n",
        "import pandas as pd\n",
        "import seaborn as sns\n",
        "from pylab import rcParams\n",
        "import matplotlib.pyplot as plt\n",
        "from matplotlib import rc\n",
        "from sklearn.model_selection import train_test_split\n",
        "from pandas.plotting import register_matplotlib_converters\n",
        "\n",
        "%matplotlib inline\n",
        "%config InlineBackend.figure_format='retina'\n",
        "\n",
        "register_matplotlib_converters()\n",
        "sns.set(style='whitegrid', palette='muted', font_scale=1.5)\n",
        "\n",
        "rcParams['figure.figsize'] = 22, 10\n",
        "\n",
        "RANDOM_SEED = 42\n",
        "\n",
        "np.random.seed(RANDOM_SEED)\n",
        "tf.random.set_seed(RANDOM_SEED)"
      ],
      "execution_count": 1,
      "outputs": []
    },
    {
      "cell_type": "code",
      "metadata": {
        "id": "n99g5GFMgO93"
      },
      "source": [
        "df = pd.read_csv(\n",
        "  \"dateindex1.csv\", \n",
        "  parse_dates=['datetime'], \n",
        "  index_col=\"datetime\"\n",
        ")"
      ],
      "execution_count": 3,
      "outputs": []
    },
    {
      "cell_type": "code",
      "metadata": {
        "colab": {
          "base_uri": "https://localhost:8080/",
          "height": 225
        },
        "id": "3MXOaSwwghpA",
        "outputId": "1e1b65d0-5fe0-4a0d-c624-ebc3f11040bc"
      },
      "source": [
        "df['hour'] = df.index.hour\n",
        "df['day_of_month'] = df.index.day\n",
        "df['day_of_week'] = df.index.dayofweek\n",
        "df['month'] = df.index.month\n",
        "df['year'] = df.index.year\n",
        "df.head()"
      ],
      "execution_count": 4,
      "outputs": [
        {
          "output_type": "execute_result",
          "data": {
            "text/html": [
              "<div>\n",
              "<style scoped>\n",
              "    .dataframe tbody tr th:only-of-type {\n",
              "        vertical-align: middle;\n",
              "    }\n",
              "\n",
              "    .dataframe tbody tr th {\n",
              "        vertical-align: top;\n",
              "    }\n",
              "\n",
              "    .dataframe thead th {\n",
              "        text-align: right;\n",
              "    }\n",
              "</style>\n",
              "<table border=\"1\" class=\"dataframe\">\n",
              "  <thead>\n",
              "    <tr style=\"text-align: right;\">\n",
              "      <th></th>\n",
              "      <th>G</th>\n",
              "      <th>hour</th>\n",
              "      <th>day_of_month</th>\n",
              "      <th>day_of_week</th>\n",
              "      <th>month</th>\n",
              "      <th>year</th>\n",
              "    </tr>\n",
              "    <tr>\n",
              "      <th>datetime</th>\n",
              "      <th></th>\n",
              "      <th></th>\n",
              "      <th></th>\n",
              "      <th></th>\n",
              "      <th></th>\n",
              "      <th></th>\n",
              "    </tr>\n",
              "  </thead>\n",
              "  <tbody>\n",
              "    <tr>\n",
              "      <th>2005-01-01 00:00:00</th>\n",
              "      <td>0.0</td>\n",
              "      <td>0</td>\n",
              "      <td>1</td>\n",
              "      <td>5</td>\n",
              "      <td>1</td>\n",
              "      <td>2005</td>\n",
              "    </tr>\n",
              "    <tr>\n",
              "      <th>2005-01-01 01:00:00</th>\n",
              "      <td>55.0</td>\n",
              "      <td>1</td>\n",
              "      <td>1</td>\n",
              "      <td>5</td>\n",
              "      <td>1</td>\n",
              "      <td>2005</td>\n",
              "    </tr>\n",
              "    <tr>\n",
              "      <th>2005-01-01 02:00:00</th>\n",
              "      <td>41.0</td>\n",
              "      <td>2</td>\n",
              "      <td>1</td>\n",
              "      <td>5</td>\n",
              "      <td>1</td>\n",
              "      <td>2005</td>\n",
              "    </tr>\n",
              "    <tr>\n",
              "      <th>2005-01-01 03:00:00</th>\n",
              "      <td>203.0</td>\n",
              "      <td>3</td>\n",
              "      <td>1</td>\n",
              "      <td>5</td>\n",
              "      <td>1</td>\n",
              "      <td>2005</td>\n",
              "    </tr>\n",
              "    <tr>\n",
              "      <th>2005-01-01 04:00:00</th>\n",
              "      <td>421.0</td>\n",
              "      <td>4</td>\n",
              "      <td>1</td>\n",
              "      <td>5</td>\n",
              "      <td>1</td>\n",
              "      <td>2005</td>\n",
              "    </tr>\n",
              "  </tbody>\n",
              "</table>\n",
              "</div>"
            ],
            "text/plain": [
              "                         G  hour  day_of_month  day_of_week  month  year\n",
              "datetime                                                                \n",
              "2005-01-01 00:00:00    0.0     0             1            5      1  2005\n",
              "2005-01-01 01:00:00   55.0     1             1            5      1  2005\n",
              "2005-01-01 02:00:00   41.0     2             1            5      1  2005\n",
              "2005-01-01 03:00:00  203.0     3             1            5      1  2005\n",
              "2005-01-01 04:00:00  421.0     4             1            5      1  2005"
            ]
          },
          "metadata": {
            "tags": []
          },
          "execution_count": 4
        }
      ]
    },
    {
      "cell_type": "code",
      "metadata": {
        "colab": {
          "base_uri": "https://localhost:8080/"
        },
        "id": "0KpCJQp3gi5g",
        "outputId": "fbce41eb-4dee-467b-a83b-7ac2b9ec19dd"
      },
      "source": [
        "train_size = int(len(df) * 0.7)\n",
        "test_size = len(df) - train_size\n",
        "train, test = df.iloc[0:train_size], df.iloc[train_size:len(df)]\n",
        "print(len(train), len(test))"
      ],
      "execution_count": 5,
      "outputs": [
        {
          "output_type": "stream",
          "text": [
            "73633 31558\n"
          ],
          "name": "stdout"
        }
      ]
    },
    {
      "cell_type": "code",
      "metadata": {
        "colab": {
          "base_uri": "https://localhost:8080/"
        },
        "id": "NQ4AfJk7gi3I",
        "outputId": "8eb737a6-4264-4385-9a22-ac1538b18663"
      },
      "source": [
        "X_train = train.drop(columns=['G'])\n",
        "Y_train = train[['G']]\n",
        "X_test = test.drop(columns=['G'])\n",
        "Y_test = test[['G']]\n",
        "print(X_train)"
      ],
      "execution_count": 6,
      "outputs": [
        {
          "output_type": "stream",
          "text": [
            "                     hour  day_of_month  day_of_week  month  year\n",
            "datetime                                                         \n",
            "2005-01-01 00:00:00     0             1            5      1  2005\n",
            "2005-01-01 01:00:00     1             1            5      1  2005\n",
            "2005-01-01 02:00:00     2             1            5      1  2005\n",
            "2005-01-01 03:00:00     3             1            5      1  2005\n",
            "2005-01-01 04:00:00     4             1            5      1  2005\n",
            "...                   ...           ...          ...    ...   ...\n",
            "2013-05-26 20:00:00    20            26            6      5  2013\n",
            "2013-05-26 21:00:00    21            26            6      5  2013\n",
            "2013-05-26 22:00:00    22            26            6      5  2013\n",
            "2013-05-26 23:00:00    23            26            6      5  2013\n",
            "2013-05-27 00:00:00     0            27            0      5  2013\n",
            "\n",
            "[73633 rows x 5 columns]\n"
          ],
          "name": "stdout"
        }
      ]
    },
    {
      "cell_type": "code",
      "metadata": {
        "id": "24w25vM5gi0s"
      },
      "source": [
        "from sklearn.tree import DecisionTreeRegressor\n",
        "from sklearn.model_selection import train_test_split\n",
        "from sklearn.metrics import mean_squared_error as MSE\n",
        "\n",
        "dt = DecisionTreeRegressor(max_depth=4,\n",
        "                           min_samples_leaf = 0.1,\n",
        "                           random_state=3)"
      ],
      "execution_count": 10,
      "outputs": []
    },
    {
      "cell_type": "code",
      "metadata": {
        "colab": {
          "base_uri": "https://localhost:8080/"
        },
        "id": "G3FiHrQvgiwn",
        "outputId": "7a9ce039-20e0-4cb5-96e2-5911feb12f7f"
      },
      "source": [
        "history = dt.fit(X_train,Y_train)\n",
        "y_pred = dt.predict(X_test)\n",
        "mse_dt = MSE(Y_test,y_pred)\n",
        "rmse_dt = mse_dt**(1/2)\n",
        "print(rmse_dt)"
      ],
      "execution_count": 11,
      "outputs": [
        {
          "output_type": "stream",
          "text": [
            "146.77921566871976\n"
          ],
          "name": "stdout"
        }
      ]
    },
    {
      "cell_type": "code",
      "metadata": {
        "colab": {
          "base_uri": "https://localhost:8080/"
        },
        "id": "4be9ZgiHjGhY",
        "outputId": "3192b3be-e4c0-4abb-c39e-c5678120f7c4"
      },
      "source": [
        "print(X_test)"
      ],
      "execution_count": 13,
      "outputs": [
        {
          "output_type": "stream",
          "text": [
            "                     hour  day_of_month  day_of_week  month  year\n",
            "datetime                                                         \n",
            "2013-05-27 01:00:00     1            27            0      5  2013\n",
            "2013-05-27 02:00:00     2            27            0      5  2013\n",
            "2013-05-27 03:00:00     3            27            0      5  2013\n",
            "2013-05-27 04:00:00     4            27            0      5  2013\n",
            "2013-05-27 05:00:00     5            27            0      5  2013\n",
            "...                   ...           ...          ...    ...   ...\n",
            "2016-12-31 18:00:00    18            31            5     12  2016\n",
            "2016-12-31 19:00:00    19            31            5     12  2016\n",
            "2016-12-31 20:00:00    20            31            5     12  2016\n",
            "2016-12-31 21:00:00    21            31            5     12  2016\n",
            "2016-12-31 22:00:00    22            31            5     12  2016\n",
            "\n",
            "[31558 rows x 5 columns]\n"
          ],
          "name": "stdout"
        }
      ]
    },
    {
      "cell_type": "code",
      "metadata": {
        "colab": {
          "base_uri": "https://localhost:8080/"
        },
        "id": "dcH65rWMgipP",
        "outputId": "4d0e3a4c-5d61-4077-ad9a-b1573e420f2d"
      },
      "source": [
        "print(y_pred)"
      ],
      "execution_count": 12,
      "outputs": [
        {
          "output_type": "stream",
          "text": [
            "[164.57095057 164.57095057 736.51345525 ...   0.           0.\n",
            "   0.        ]\n"
          ],
          "name": "stdout"
        }
      ]
    },
    {
      "cell_type": "code",
      "metadata": {
        "colab": {
          "base_uri": "https://localhost:8080/"
        },
        "id": "59foD3BXgihZ",
        "outputId": "3c410ec0-23e4-4a9c-b028-663f3f12796f"
      },
      "source": [
        "test_data = np.array([  15,\t2,\t5\t,1\t,2009])\n",
        "print(dt.predict(test_data.reshape(1,5)))"
      ],
      "execution_count": 29,
      "outputs": [
        {
          "output_type": "stream",
          "text": [
            "[0.]\n"
          ],
          "name": "stdout"
        }
      ]
    },
    {
      "cell_type": "code",
      "metadata": {
        "id": "00X7RIAilRfv"
      },
      "source": [
        "X_train = train.drop(columns=['G'])\n",
        "Y_train = train[['G']]\n",
        "X_test = test.drop(columns=['G'])\n",
        "Y_test = test[['G']]\n",
        "print(X_train)"
      ],
      "execution_count": null,
      "outputs": []
    },
    {
      "cell_type": "code",
      "metadata": {
        "id": "3TPs48xvljG1"
      },
      "source": [
        "y = df[['G']]\n",
        "X= df.drop(columns=['G'])"
      ],
      "execution_count": 31,
      "outputs": []
    },
    {
      "cell_type": "code",
      "metadata": {
        "id": "qgO0GyJggiX3"
      },
      "source": [
        "from sklearn.model_selection import train_test_split\n",
        "X_train, X_test, y_train, y_test = train_test_split(X, y, test_size=0.2, random_state=0)"
      ],
      "execution_count": 32,
      "outputs": []
    },
    {
      "cell_type": "code",
      "metadata": {
        "id": "JyreMsG8l1lg"
      },
      "source": [
        "from sklearn.tree import DecisionTreeRegressor\n",
        "regressor = DecisionTreeRegressor()\n",
        "history=regressor.fit(X_train, y_train)\n"
      ],
      "execution_count": 40,
      "outputs": []
    },
    {
      "cell_type": "code",
      "metadata": {
        "id": "gFZHGZSml4qN"
      },
      "source": [
        "y_pred = regressor.predict(X_test)"
      ],
      "execution_count": 55,
      "outputs": []
    },
    {
      "cell_type": "code",
      "metadata": {
        "colab": {
          "base_uri": "https://localhost:8080/"
        },
        "id": "2ELgZzBKl9XF",
        "outputId": "18e06f06-7d94-4610-e50e-ce83a3dc5fe9"
      },
      "source": [
        "y_pred"
      ],
      "execution_count": 36,
      "outputs": [
        {
          "output_type": "execute_result",
          "data": {
            "text/plain": [
              "array([411.,   0.,   0., ...,   0.,   0., 129.])"
            ]
          },
          "metadata": {
            "tags": []
          },
          "execution_count": 36
        }
      ]
    },
    {
      "cell_type": "code",
      "metadata": {
        "colab": {
          "base_uri": "https://localhost:8080/",
          "height": 431
        },
        "id": "-NoJdY7dmNzc",
        "outputId": "8ef4f20a-32cb-4b99-80fd-5ad6544ba66a"
      },
      "source": [
        "y_test"
      ],
      "execution_count": 37,
      "outputs": [
        {
          "output_type": "execute_result",
          "data": {
            "text/html": [
              "<div>\n",
              "<style scoped>\n",
              "    .dataframe tbody tr th:only-of-type {\n",
              "        vertical-align: middle;\n",
              "    }\n",
              "\n",
              "    .dataframe tbody tr th {\n",
              "        vertical-align: top;\n",
              "    }\n",
              "\n",
              "    .dataframe thead th {\n",
              "        text-align: right;\n",
              "    }\n",
              "</style>\n",
              "<table border=\"1\" class=\"dataframe\">\n",
              "  <thead>\n",
              "    <tr style=\"text-align: right;\">\n",
              "      <th></th>\n",
              "      <th>G</th>\n",
              "    </tr>\n",
              "    <tr>\n",
              "      <th>datetime</th>\n",
              "      <th></th>\n",
              "    </tr>\n",
              "  </thead>\n",
              "  <tbody>\n",
              "    <tr>\n",
              "      <th>2011-06-02 02:00:00</th>\n",
              "      <td>303.0</td>\n",
              "    </tr>\n",
              "    <tr>\n",
              "      <th>2012-03-07 22:00:00</th>\n",
              "      <td>0.0</td>\n",
              "    </tr>\n",
              "    <tr>\n",
              "      <th>2010-05-09 18:00:00</th>\n",
              "      <td>0.0</td>\n",
              "    </tr>\n",
              "    <tr>\n",
              "      <th>2007-09-25 21:00:00</th>\n",
              "      <td>0.0</td>\n",
              "    </tr>\n",
              "    <tr>\n",
              "      <th>2007-04-17 12:00:00</th>\n",
              "      <td>0.0</td>\n",
              "    </tr>\n",
              "    <tr>\n",
              "      <th>...</th>\n",
              "      <td>...</td>\n",
              "    </tr>\n",
              "    <tr>\n",
              "      <th>2006-03-05 01:00:00</th>\n",
              "      <td>128.0</td>\n",
              "    </tr>\n",
              "    <tr>\n",
              "      <th>2009-01-04 19:00:00</th>\n",
              "      <td>0.0</td>\n",
              "    </tr>\n",
              "    <tr>\n",
              "      <th>2014-05-28 14:00:00</th>\n",
              "      <td>0.0</td>\n",
              "    </tr>\n",
              "    <tr>\n",
              "      <th>2015-11-05 19:00:00</th>\n",
              "      <td>0.0</td>\n",
              "    </tr>\n",
              "    <tr>\n",
              "      <th>2010-08-29 01:00:00</th>\n",
              "      <td>172.0</td>\n",
              "    </tr>\n",
              "  </tbody>\n",
              "</table>\n",
              "<p>21039 rows × 1 columns</p>\n",
              "</div>"
            ],
            "text/plain": [
              "                         G\n",
              "datetime                  \n",
              "2011-06-02 02:00:00  303.0\n",
              "2012-03-07 22:00:00    0.0\n",
              "2010-05-09 18:00:00    0.0\n",
              "2007-09-25 21:00:00    0.0\n",
              "2007-04-17 12:00:00    0.0\n",
              "...                    ...\n",
              "2006-03-05 01:00:00  128.0\n",
              "2009-01-04 19:00:00    0.0\n",
              "2014-05-28 14:00:00    0.0\n",
              "2015-11-05 19:00:00    0.0\n",
              "2010-08-29 01:00:00  172.0\n",
              "\n",
              "[21039 rows x 1 columns]"
            ]
          },
          "metadata": {
            "tags": []
          },
          "execution_count": 37
        }
      ]
    },
    {
      "cell_type": "code",
      "metadata": {
        "colab": {
          "base_uri": "https://localhost:8080/"
        },
        "id": "2_OHXXEomT9N",
        "outputId": "d63cc63c-9432-48b3-9d76-4c2cf84ea3c5"
      },
      "source": [
        "from sklearn import metrics\n",
        "print('Mean Absolute Error:', metrics.mean_absolute_error(y_test, y_pred))\n",
        "print('Mean Squared Error:', metrics.mean_squared_error(y_test, y_pred))\n",
        "print('Root Mean Squared Error:', np.sqrt(metrics.mean_squared_error(y_test, y_pred)))"
      ],
      "execution_count": 38,
      "outputs": [
        {
          "output_type": "stream",
          "text": [
            "Mean Absolute Error: 57.386782166452775\n",
            "Mean Squared Error: 18619.074802352774\n",
            "Root Mean Squared Error: 136.4517306682212\n"
          ],
          "name": "stdout"
        }
      ]
    },
    {
      "cell_type": "code",
      "metadata": {
        "colab": {
          "base_uri": "https://localhost:8080/",
          "height": 295
        },
        "id": "QSiD1TLWmY-0",
        "outputId": "d2a04434-4f4a-4c60-9007-7ad9a229d8ea"
      },
      "source": [
        "plt.plot(np.arange(len(y_train), len(y_train) + len(y_test)), y_test, marker='.', label=\"true\")\n",
        "plt.plot(np.arange(len(y_train), len(y_train) + len(y_test)), y_pred, 'r', label=\"prediction\")\n",
        "plt.ylabel('Irradiance')\n",
        "plt.xlabel('Time Step')\n",
        "plt.legend()\n",
        "plt.show();"
      ],
      "execution_count": 56,
      "outputs": [
        {
          "output_type": "display_data",
          "data": {
            "image/png": "[encoded data removed]",
            "text/plain": [
              "<Figure size 432x288 with 1 Axes>"
            ]
          },
          "metadata": {
            "tags": [],
            "image/png": {
              "width": 435,
              "height": 278
            },
            "needs_background": "light"
          }
        }
      ]
    },
    {
      "cell_type": "code",
      "metadata": {
        "id": "J_YgJb8xo6vm"
      },
      "source": [
        "import pickle\n",
        "with open('decision_Tree_model','wb') as f:\n",
        "  pickle.dump(regressor,f)"
      ],
      "execution_count": 59,
      "outputs": []
    },
    {
      "cell_type": "code",
      "metadata": {
        "colab": {
          "base_uri": "https://localhost:8080/"
        },
        "id": "LOIouYnPrSY-",
        "outputId": "a102d507-beba-425e-a265-2e4e74a25a6e"
      },
      "source": [
        "test_data = np.array([  7,\t2,\t5\t,1\t,2009])\n",
        "print(regressor.predict(test_data.reshape(1,5)))"
      ],
      "execution_count": 61,
      "outputs": [
        {
          "output_type": "stream",
          "text": [
            "[900.01]\n"
          ],
          "name": "stdout"
        }
      ]
    }
  ]
}