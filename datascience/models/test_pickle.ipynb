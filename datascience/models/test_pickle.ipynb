{
  "nbformat": 4,
  "nbformat_minor": 0,
  "metadata": {
    "colab": {
      "name": "test_pickle.ipynb",
      "provenance": [],
      "collapsed_sections": [],
      "authorship_tag": "ABX9TyPE4eUMinNHiQUOIi646rCk",
      "include_colab_link": true
    },
    "kernelspec": {
      "name": "python3",
      "display_name": "Python 3"
    },
    "language_info": {
      "name": "python"
    }
  },
  "cells": [
    {
      "cell_type": "markdown",
      "metadata": {
        "id": "view-in-github",
        "colab_type": "text"
      },
      "source": [
        "<a href=\"https://colab.research.google.com/github/chehansivaruban/Cyber---SDGP/blob/main/test_pickle.ipynb\" target=\"_parent\"><img src=\"https://colab.research.google.com/assets/colab-badge.svg\" alt=\"Open In Colab\"/></a>"
      ]
    },
    {
      "cell_type": "code",
      "metadata": {
        "id": "ggjnNLHmqxZW"
      },
      "source": [
        "import pickle"
      ],
      "execution_count": 1,
      "outputs": []
    },
    {
      "cell_type": "code",
      "metadata": {
        "id": "v5-cZNCTq7y6"
      },
      "source": [
        "with open('decision_Tree_model','rb') as f:\n",
        "  model=pickle.load(f)"
      ],
      "execution_count": 3,
      "outputs": []
    },
    {
      "cell_type": "code",
      "metadata": {
        "colab": {
          "base_uri": "https://localhost:8080/"
        },
        "id": "VzgQF4wBrgCL",
        "outputId": "15436bb4-e68d-4bc1-82d2-5efd8e220dbd"
      },
      "source": [
        "import numpy as np\n",
        "test_data = np.array([  11,\t2,\t5\t,1\t,2009])\n",
        "print(model.predict(test_data.reshape(1,5)))"
      ],
      "execution_count": 18,
      "outputs": [
        {
          "output_type": "stream",
          "text": [
            "[140.]\n"
          ],
          "name": "stdout"
        }
      ]
    }
  ]
}